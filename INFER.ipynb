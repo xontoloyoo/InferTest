{
  "cells": [
    {
      "cell_type": "code",
      "execution_count": null,
      "metadata": {
        "id": "jwz_btMlUDd9"
      },
      "outputs": [],
      "source": [
        "from google.colab import drive\n",
        "drive.mount('/content/drive')\n",
        "!pip install PyDrive"
      ]
    },
    {
      "cell_type": "code",
      "execution_count": null,
      "metadata": {
        "cellView": "form",
        "id": "9pc1cXR_MSZ3"
      },
      "outputs": [],
      "source": [
        "#@title Clone repo\n",
        "!git clone https://github.com/xontoloyoo/InferTest\n",
        "%cd InferTest"
      ]
    },
    {
      "cell_type": "code",
      "execution_count": null,
      "metadata": {
        "id": "LgBrHbFtMVaa",
        "cellView": "form"
      },
      "outputs": [],
      "source": [
        "#@title WAJIB\n",
        "!pip install -q -r requirements.txt\n",
        "!sudo apt update\n",
        "!sudo apt install sox\n",
        "!python src/download_models.py\n",
        "!pip install gTTS"
      ]
    },
    {
      "cell_type": "code",
      "execution_count": null,
      "metadata": {
        "id": "loR4qjNkBG8V",
        "cellView": "form"
      },
      "outputs": [],
      "source": [
        "#@title SALIN MODEL\n",
        "from pydrive.auth import GoogleAuth\n",
        "from pydrive.drive import GoogleDrive\n",
        "from shutil import copyfile\n",
        "import shutil\n",
        "import os\n",
        "\n",
        "# Nama model yang dimasukkan oleh pengguna\n",
        "nama_model = input(\"Masukkan nama model: \")\n",
        "\n",
        "# Path ke folder sumber\n",
        "source_folder = f'/content/drive/MyDrive/RVC/{nama_model}'\n",
        "\n",
        "# Path ke folder tujuan di Google Drive\n",
        "destination_folder = f'/content/InferTest/rvc_models/{nama_model}'\n",
        "\n",
        "# Buat direktori baru di Colab sesuai dengan nama model\n",
        "os.makedirs(destination_folder, exist_ok=True)\n",
        "\n",
        "# Mencari semua file yang dimulai dengan \"added_\" di dalam folder sumber\n",
        "matching_files = [file for file in os.listdir(source_folder) if file.startswith(\"added_\") or file.startswith(\"total_\")]\n",
        "\n",
        "# Menyalin semua file yang sesuai dengan pola ke folder tujuan\n",
        "for file in matching_files:\n",
        "    source_file_path = os.path.join(source_folder, file)\n",
        "    destination_file_path = os.path.join(destination_folder, file)\n",
        "    shutil.copyfile(source_file_path, destination_file_path)\n",
        "# Verifikasi bahwa file-file telah disalin dengan sukses\n",
        "os.listdir(destination_folder)\n",
        "folder = f'/content/drive/MyDrive/RVC/'\n",
        "\n",
        "# Daftar file yang ingin Anda salin\n",
        "files_to_copy = [\n",
        "    f'weights/{nama_model}.pth'\n",
        "]\n",
        "\n",
        "for file_path in files_to_copy:\n",
        "    folder = os.path.join(folder, file_path)\n",
        "    destination_folder = os.path.join(destination_folder, os.path.basename(file_path))\n",
        "    copyfile(folder, destination_folder)\n",
        "    print(f\"File '{folder}' telah berhasil disalin ke '{destination_folder}'\")\n",
        "    print(\"Semua file telah berhasil disalin\")"
      ]
    },
    {
      "cell_type": "code",
      "execution_count": null,
      "metadata": {
        "cellView": "form",
        "id": "9aMm_NgjUH4T"
      },
      "outputs": [],
      "source": [
        "#@title Model Download Function\n",
        "\n",
        "import os\n",
        "import zipfile\n",
        "import shutil\n",
        "import urllib.request\n",
        "\n",
        "BASE_DIR = os.getcwd()\n",
        "rvc_models_dir = os.path.join(BASE_DIR, 'rvc_models')\n",
        "\n",
        "def extract_zip(extraction_folder, zip_name):\n",
        "    os.makedirs(extraction_folder)\n",
        "    with zipfile.ZipFile(zip_name, 'r') as zip_ref:\n",
        "        zip_ref.extractall(extraction_folder)\n",
        "    os.remove(zip_name)\n",
        "\n",
        "    index_filepath, model_filepath = None, None\n",
        "    for root, dirs, files in os.walk(extraction_folder):\n",
        "        for name in files:\n",
        "            if name.endswith('.index') and os.stat(os.path.join(root, name)).st_size > 1024 * 100:\n",
        "                index_filepath = os.path.join(root, name)\n",
        "\n",
        "            if name.endswith('.pth') and os.stat(os.path.join(root, name)).st_size > 1024 * 1024 * 40:\n",
        "                model_filepath = os.path.join(root, name)\n",
        "\n",
        "    if not model_filepath:\n",
        "        raise Exception(f'No .pth model file was found in the extracted zip. Please check {extraction_folder}.')\n",
        "\n",
        "    # move model and index file to extraction folder\n",
        "    os.rename(model_filepath, os.path.join(extraction_folder, os.path.basename(model_filepath)))\n",
        "    if index_filepath:\n",
        "        os.rename(index_filepath, os.path.join(extraction_folder, os.path.basename(index_filepath)))\n",
        "\n",
        "    # remove any unnecessary nested folders\n",
        "    for filepath in os.listdir(extraction_folder):\n",
        "        if os.path.isdir(os.path.join(extraction_folder, filepath)):\n",
        "            shutil.rmtree(os.path.join(extraction_folder, filepath))\n",
        "\n",
        "def download_online_model(url, dir_name):\n",
        "    try:\n",
        "        print(f'[~] Downloading voice model with name {dir_name}...')\n",
        "        zip_name = url.split('/')[-1]\n",
        "        extraction_folder = os.path.join(rvc_models_dir, dir_name)\n",
        "        if os.path.exists(extraction_folder):\n",
        "            raise Exception(f'Voice model directory {dir_name} already exists! Choose a different name for your voice model.')\n",
        "\n",
        "        if 'pixeldrain.com' in url:\n",
        "            url = f'https://pixeldrain.com/api/file/{zip_name}'\n",
        "\n",
        "        urllib.request.urlretrieve(url, zip_name)\n",
        "\n",
        "        print('[~] Extracting zip...')\n",
        "        extract_zip(extraction_folder, zip_name)\n",
        "        print(f'[+] {dir_name} Model successfully downloaded!')\n",
        "\n",
        "    except Exception as e:\n",
        "        raise Exception(str(e))\n",
        "\n",
        "url = \"https://pixeldrain.com/u/3tJmABXA\" # @param {type:\"string\"}\n",
        "dir_name = \"Gura\" # @param {type:\"string\"}\n",
        "\n",
        "download_online_model(url, dir_name)"
      ]
    },
    {
      "cell_type": "code",
      "execution_count": null,
      "metadata": {
        "id": "jG6MpANMXnWi",
        "cellView": "form"
      },
      "outputs": [],
      "source": [
        "# @title INFER V1\n",
        "# @markdown Main Option | You also can input audio path inside \"SONG_INPUT\"\n",
        "SONG_INPUT = \"/content/drive/MyDrive/Angels_Like_You.wav\" # @param {type:\"string\"}\n",
        "RVC_DIRNAME = \"FreyaNew\" # @param {type:\"string\"}\n",
        "PITCH_CHANGE = -1 # @param {type:\"integer\"}\n",
        "PITCH_CHANGE_ALL = 0 # @param {type:\"integer\"}\n",
        "# @markdown Voice Conversion Options\n",
        "INDEX_RATE = 0.7 # @param {type:\"number\"}\n",
        "FILTER_RADIUS = 3 # @param {type:\"integer\"}\n",
        "PITCH_DETECTION_ALGO = \"rmvpe\" # @param [\"rmvpe\", \"mangio-crepe\"]\n",
        "CREPE_HOP_LENGTH = 128 # @param {type:\"integer\"}\n",
        "PROTECT = 0.33 # @param {type:\"number\"}\n",
        "REMIX_MIX_RATE = 0.0  # @param {type:\"number\"}\n",
        "# @markdown Output Format\n",
        "OUTPUT_FORMAT = \"wav\" # @param [\"mp3\", \"wav\"]\n",
        "\n",
        "# Menjalankan perintah dengan argumen yang ditentukan\n",
        "#!python3 src/tes.py -i \"{SONG_INPUT}\" -dir \"{RVC_DIRNAME}\" -p {PITCH_CHANGE} -ir {INDEX_RATE} -fr {FILTER_RADIUS} -palgo \"{PITCH_DETECTION_ALGO}\" -hop {CREPE_HOP_LENGTH} -pro {PROTECT} -oformat \"{OUTPUT_FORMAT}\"\n",
        "!python3 src/main.py -i \"{SONG_INPUT}\" -dir \"{RVC_DIRNAME}\" -p {PITCH_CHANGE} -ir {INDEX_RATE} -fr {FILTER_RADIUS} -palgo \"{PITCH_DETECTION_ALGO}\" -hop {CREPE_HOP_LENGTH} -pro {PROTECT} -oformat \"{OUTPUT_FORMAT}\""
      ]
    },
    {
      "cell_type": "code",
      "execution_count": null,
      "metadata": {
        "cellView": "form",
        "id": "vxpW_RwdVEl8"
      },
      "outputs": [],
      "source": [
        "# @title PLAY AUDIO\n",
        "from gtts import gTTS\n",
        "from IPython.display import Audio\n",
        "\n",
        "# Ganti \"nama_file_audio.wav\" dengan nama file audio yang Anda unggah\n",
        "nama_file_audio = \"/content/InferTest/song_output/6c831c6f926/Angels_Like_You (Versi FreyaNew).wav\" # @param {type:\"string\"}\n",
        "\n",
        "# Memutar file audio\n",
        "Audio(nama_file_audio)\n"
      ]
    },
    {
      "cell_type": "markdown",
      "source": [
        "\n",
        "\n",
        "---\n",
        "\n",
        "\n",
        "# ***SAMPAH TAPI GUNA***\n",
        "---\n",
        "\n",
        "\n"
      ],
      "metadata": {
        "id": "aYEgt6LhC2fb"
      }
    },
    {
      "cell_type": "code",
      "execution_count": null,
      "metadata": {
        "cellView": "form",
        "colab": {
          "background_save": true
        },
        "id": "B3BqnUoePVGd"
      },
      "outputs": [],
      "source": [
        "# @title INFER V2\n",
        "# @markdown Main Option | You also can input audio path inside \"SONG_INPUT\"\n",
        "SONG_INPUT = \"/content/drive/MyDrive/Angels_Like_You.wav\" # @param {type:\"string\"}\n",
        "RVC_DIRNAME = \"FreyaNew\" # @param {type:\"string\"}\n",
        "PITCH_CHANGE = 0.0 # @param {type:\"number\"}\n",
        "PITCH_CHANGE_ALL = 0 # @param {type:\"integer\"}\n",
        "# @markdown Voice Conversion Options\n",
        "INDEX_RATE = 0.5 # @param {type:\"number\"}\n",
        "FILTER_RADIUS = 3 # @param {type:\"integer\"}\n",
        "PITCH_DETECTION_ALGO = \"rmvpe\" # @param [\"rmvpe\", \"mangio-crepe\"]\n",
        "CREPE_HOP_LENGTH = 128 # @param {type:\"integer\"}\n",
        "PROTECT = 0.33 # @param {type:\"number\"}\n",
        "REMIX_MIX_RATE = 0.25  # @param {type:\"number\"}\n",
        "# @markdown Output Format\n",
        "OUTPUT_FORMAT = \"mp3\" # @param [\"mp3\", \"wav\"]\n",
        "\n",
        "import subprocess\n",
        "\n",
        "command = [\n",
        "    \"python\",\n",
        "    \"src/main.py\",\n",
        "    \"-i\", SONG_INPUT,\n",
        "    \"-dir\", RVC_DIRNAME,\n",
        "    \"-p\", str(PITCH_CHANGE),\n",
        "    \"-k\",\n",
        "    \"-ir\", str(INDEX_RATE),\n",
        "    \"-fr\", str(FILTER_RADIUS),\n",
        "    \"-rms\", str(REMIX_MIX_RATE),\n",
        "    \"-palgo\", PITCH_DETECTION_ALGO,\n",
        "    \"-hop\", str(CREPE_HOP_LENGTH),\n",
        "    \"-pro\", str(PROTECT),\n",
        "    \"-oformat\", OUTPUT_FORMAT\n",
        "]\n",
        "\n",
        "# Open a subprocess and capture its output\n",
        "process = subprocess.Popen(command, stdout=subprocess.PIPE, stderr=subprocess.STDOUT, universal_newlines=True)\n",
        "\n",
        "# Print the output in real-time\n",
        "for line in process.stdout:\n",
        "    print(line, end='')\n",
        "\n",
        "# Wait for the process to finish\n",
        "process.wait()"
      ]
    },
    {
      "cell_type": "code",
      "execution_count": null,
      "metadata": {
        "id": "dqT1uQPxeVaS",
        "cellView": "form"
      },
      "outputs": [],
      "source": [
        "# @title HAPUS FOLDER\n",
        "import shutil\n",
        "\n",
        "folder_path = \"/content/InferTest\"  # @param {type:\"string\"}\n",
        "shutil.rmtree(folder_path)\n"
      ]
    }
  ],
  "metadata": {
    "accelerator": "GPU",
    "colab": {
      "provenance": []
    },
    "kernelspec": {
      "display_name": "Python 3",
      "name": "python3"
    },
    "language_info": {
      "name": "python"
    }
  },
  "nbformat": 4,
  "nbformat_minor": 0
}